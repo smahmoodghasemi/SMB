{
 "cells": [
  {
   "cell_type": "code",
   "execution_count": 1,
   "metadata": {},
   "outputs": [],
   "source": [
    "import numpy as np\n",
    "import matplotlib.pyplot as plt\n",
    "import math\n",
    "import seaborn as sns\n",
    "from time import time\n",
    "from scipy.stats import ks_2samp\n",
    "from scipy.stats import kstest\n",
    "import pickle"
   ]
  },
  {
   "cell_type": "code",
   "execution_count": 2,
   "metadata": {},
   "outputs": [
    {
     "name": "stdout",
     "output_type": "stream",
     "text": [
      "124.49532747268677\n"
     ]
    }
   ],
   "source": [
    "begin=time()\n",
    "N0=1\n",
    "STEP=30000000\n",
    "SIM=1\n",
    "np.random.seed(10)\n",
    "s3 = np.zeros( STEP)\n",
    "H3 = np.zeros( STEP)\n",
    "N3 = np.zeros( STEP)\n",
    "N3[0] = N0\n",
    "for i in range(STEP-1):\n",
    "    h = - np.log(np.random.rand())/((0.4*N3[i])**1.001)\n",
    "    H3[i]=h\n",
    "    s3[i+1] = s3[i] + h\n",
    "    N3[i+1] = N3[i] + 1\n",
    "\n",
    "end=time()\n",
    "print(end-begin)"
   ]
  },
  {
   "cell_type": "code",
   "execution_count": 3,
   "metadata": {},
   "outputs": [
    {
     "data": {
      "text/plain": [
       "30000000.0"
      ]
     },
     "execution_count": 3,
     "metadata": {},
     "output_type": "execute_result"
    }
   ],
   "source": [
    "np.max(N3)"
   ]
  },
  {
   "cell_type": "code",
   "execution_count": 4,
   "metadata": {},
   "outputs": [
    {
     "data": {
      "text/plain": [
       "45.944878022487586"
      ]
     },
     "execution_count": 4,
     "metadata": {},
     "output_type": "execute_result"
    }
   ],
   "source": [
    "np.max(s3)"
   ]
  },
  {
   "cell_type": "code",
   "execution_count": null,
   "metadata": {},
   "outputs": [],
   "source": []
  }
 ],
 "metadata": {
  "kernelspec": {
   "display_name": "Python 3",
   "language": "python",
   "name": "python3"
  },
  "language_info": {
   "codemirror_mode": {
    "name": "ipython",
    "version": 3
   },
   "file_extension": ".py",
   "mimetype": "text/x-python",
   "name": "python",
   "nbconvert_exporter": "python",
   "pygments_lexer": "ipython3",
   "version": "3.6.9"
  }
 },
 "nbformat": 4,
 "nbformat_minor": 2
}
