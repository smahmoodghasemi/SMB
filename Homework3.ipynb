{
 "cells": [
  {
   "cell_type": "code",
   "execution_count": 1,
   "metadata": {},
   "outputs": [],
   "source": [
    "import numpy as np\n",
    "import pandas as pd\n",
    "from time import time\n",
    "import matplotlib.pyplot as plt\n",
    "import warnings\n",
    "warnings.filterwarnings(\"ignore\")\n",
    "import math\n",
    "import random\n",
    "from numba import jit\n",
    "import seaborn as sb"
   ]
  },
  {
   "cell_type": "markdown",
   "metadata": {},
   "source": [
    "# Q1"
   ]
  },
  {
   "cell_type": "code",
   "execution_count": 2,
   "metadata": {},
   "outputs": [],
   "source": [
    "@jit\n",
    "def MP(v,wk,x,tm,dt,step,sim):\n",
    "    membrance_potential=[]\n",
    "    i=0\n",
    "    X=x\n",
    "    for i in range(sim):\n",
    "        while i<step:\n",
    "            vk=v*(1-np.exp(-dt*i))\n",
    "            a=vk * wk * tm\n",
    "            b=(vk * (wk**2) * tm)\n",
    "            X= X + dt * ((-X + a)/tm) + np.sqrt(b*dt)*np.random.normal()\n",
    "            i=i+1\n",
    "        membrance_potential.append(X)\n",
    "    return membrance_potential"
   ]
  },
  {
   "cell_type": "code",
   "execution_count": 3,
   "metadata": {},
   "outputs": [],
   "source": [
    "v=10\n",
    "wk=0.01\n",
    "x=10\n",
    "tm=1\n",
    "dt=0.001\n",
    "step=1000\n",
    "sim=100"
   ]
  },
  {
   "cell_type": "code",
   "execution_count": 4,
   "metadata": {},
   "outputs": [],
   "source": [
    "Q1=MP(v,wk,x,tm,dt,step,sim)"
   ]
  },
  {
   "cell_type": "code",
   "execution_count": 5,
   "metadata": {},
   "outputs": [],
   "source": [
    "a=tm * v *wk\n",
    "b=(v * (wk**2) * tm)\n",
    "avg=a\n",
    "sd=np.sqrt(2*b)\n",
    "NOR=np.random.normal(avg,sd,1000)"
   ]
  },
  {
   "cell_type": "code",
   "execution_count": 6,
   "metadata": {},
   "outputs": [
    {
     "data": {
      "text/plain": [
       "<matplotlib.axes._subplots.AxesSubplot at 0x169465e22b0>"
      ]
     },
     "execution_count": 6,
     "metadata": {},
     "output_type": "execute_result"
    },
    {
     "data": {
      "image/png": "[encoded data removed]",
      "text/plain": [
       "<Figure size 432x288 with 1 Axes>"
      ]
     },
     "metadata": {
      "needs_background": "light"
     },
     "output_type": "display_data"
    }
   ],
   "source": [
    "sb.kdeplot(Q1,color='blue')\n",
    "sb.kdeplot(NOR,color='red')\n"
   ]
  },
  {
   "cell_type": "markdown",
   "metadata": {},
   "source": [
    "# Q2"
   ]
  },
  {
   "cell_type": "code",
   "execution_count": 7,
   "metadata": {},
   "outputs": [],
   "source": [
    "# deterministic expected time\n",
    "# Using the last slide in lecture 16\n",
    "@jit\n",
    "def deter(c,x,vk,wk,tm):\n",
    "    a=vk * wk * tm\n",
    "    b= (vk * (wk**2) * tm)\n",
    "    A= np.exp( (-2*a*x)/b)\n",
    "    B=(c-1)*(np.exp((2*a*(1+c))/b))\n",
    "    C=(x-1)*(np.exp((2*a*(1+x))/b))\n",
    "    D=(x-c)*(np.exp((2*a*(c+x))/b))\n",
    "    E= a * (np.exp(2*a / b) - np.exp(2*a*c/b))\n",
    "    F= (A *(B-C+D))/E\n",
    "    return F"
   ]
  },
  {
   "cell_type": "code",
   "execution_count": 8,
   "metadata": {},
   "outputs": [],
   "source": [
    "@jit\n",
    "def sim2(c,x,vk,wk,tm,dt,sim):\n",
    "    jump_time_of_each_sim=np.zeros(sim)\n",
    "    a=vk * wk * tm\n",
    "    b= (vk * (wk**2) * tm)\n",
    "    for i in range(sim):\n",
    "        X=x\n",
    "        j=0\n",
    "        while True:\n",
    "            X= X + dt * ((-X + a)/tm) + np.sqrt(b*dt)*np.random.normal()\n",
    "            time = j*dt\n",
    "            if (X<=c or X>=1):\n",
    "                tmie=j*dt\n",
    "                break\n",
    "            j=j+1\n",
    "        jump_time_of_each_sim[i]=time\n",
    "    mean_time=np.mean(jump_time_of_each_sim)\n",
    "    return mean_time"
   ]
  },
  {
   "cell_type": "code",
   "execution_count": 9,
   "metadata": {},
   "outputs": [],
   "source": [
    "tm=1\n",
    "wk=0.1\n",
    "vk=0.1\n",
    "sim=100\n",
    "dt=0.001\n",
    "x=0.5\n",
    "c=-0.1\n"
   ]
  },
  {
   "cell_type": "code",
   "execution_count": 10,
   "metadata": {},
   "outputs": [],
   "source": [
    "Q2E=deter(c,x,vk,wk,tm)\n",
    "Q2S=sim2(c,x,vk,wk,tm,dt,sim)"
   ]
  },
  {
   "cell_type": "code",
   "execution_count": 11,
   "metadata": {},
   "outputs": [
    {
     "name": "stdout",
     "output_type": "stream",
     "text": [
      "the value from ODE solution is 49.9993241673251 and the mean for solution is 91454.24761999998\n"
     ]
    }
   ],
   "source": [
    "print(\"the value from ODE solution is \"+str(Q2E)+ \" and the mean for solution is \"+str(Q2S))"
   ]
  },
  {
   "cell_type": "markdown",
   "metadata": {},
   "source": [
    "# Q 5"
   ]
  },
  {
   "cell_type": "code",
   "execution_count": 12,
   "metadata": {},
   "outputs": [],
   "source": [
    "N=1000\n",
    "MU=[0.1/N,1/N,10/N]\n"
   ]
  },
  {
   "cell_type": "code",
   "execution_count": 13,
   "metadata": {},
   "outputs": [],
   "source": [
    "def evolution(mu12,mu23,N):\n",
    "    time12=[]\n",
    "    time23=[]\n",
    "    N1=[N]\n",
    "    N2=[0]\n",
    "    N3=[0]\n",
    "    t=0\n",
    "    i=0\n",
    "    r=np.random.rand()\n",
    "    A=(mu12*N1[i])\n",
    "    N1.append(N1[i]-A)\n",
    "    N2.append(N2[i]+A)\n",
    "    N3.append(0)\n",
    "    t12 =t+r\n",
    "    i =i+1\n",
    "    while N1[i]>0:\n",
    "        r=np.random.rand()\n",
    "        a=(mu12*N1[i])\n",
    "        if (N1[i]-a>=0):\n",
    "            N1.append(N1[i]-a)\n",
    "            N2.append(N2[i]+a)\n",
    "            b=(mu23*N2[i])\n",
    "            if (N2[i]-b>=0):\n",
    "                N2.append(N2[i]-b)\n",
    "                N3.append(N3[i]+b)\n",
    "        \n",
    "        t = t+r\n",
    "        time12.append(t)\n",
    "        i=i+1 \n",
    "#         else:\n",
    "#             break\n",
    "\n",
    "    return N1,N2,N3,time12"
   ]
  },
  {
   "cell_type": "code",
   "execution_count": 18,
   "metadata": {},
   "outputs": [
    {
     "ename": "MemoryError",
     "evalue": "",
     "output_type": "error",
     "traceback": [
      "\u001b[1;31m---------------------------------------------------------------------------\u001b[0m",
      "\u001b[1;31mMemoryError\u001b[0m                               Traceback (most recent call last)",
      "\u001b[1;32m<ipython-input-18-fd38de9d3846>\u001b[0m in \u001b[0;36m<module>\u001b[1;34m\u001b[0m\n\u001b[1;32m----> 1\u001b[1;33m \u001b[0mN1\u001b[0m\u001b[1;33m,\u001b[0m\u001b[0mN2\u001b[0m\u001b[1;33m,\u001b[0m\u001b[0mN3\u001b[0m\u001b[1;33m,\u001b[0m\u001b[0mtime\u001b[0m\u001b[1;33m=\u001b[0m\u001b[0mevolution\u001b[0m\u001b[1;33m(\u001b[0m\u001b[1;36m0.1\u001b[0m\u001b[1;33m,\u001b[0m\u001b[1;36m0.1\u001b[0m\u001b[1;33m,\u001b[0m\u001b[1;36m100\u001b[0m\u001b[1;33m)\u001b[0m\u001b[1;33m\u001b[0m\u001b[1;33m\u001b[0m\u001b[0m\n\u001b[0m",
      "\u001b[1;32m<ipython-input-13-f1e5fc77ca6f>\u001b[0m in \u001b[0;36mevolution\u001b[1;34m(mu12, mu23, N)\u001b[0m\n\u001b[0;32m     19\u001b[0m         \u001b[1;32mif\u001b[0m \u001b[1;33m(\u001b[0m\u001b[0mN1\u001b[0m\u001b[1;33m[\u001b[0m\u001b[0mi\u001b[0m\u001b[1;33m]\u001b[0m\u001b[1;33m-\u001b[0m\u001b[0ma\u001b[0m\u001b[1;33m>=\u001b[0m\u001b[1;36m0\u001b[0m\u001b[1;33m)\u001b[0m\u001b[1;33m:\u001b[0m\u001b[1;33m\u001b[0m\u001b[1;33m\u001b[0m\u001b[0m\n\u001b[0;32m     20\u001b[0m             \u001b[0mN1\u001b[0m\u001b[1;33m.\u001b[0m\u001b[0mappend\u001b[0m\u001b[1;33m(\u001b[0m\u001b[0mN1\u001b[0m\u001b[1;33m[\u001b[0m\u001b[0mi\u001b[0m\u001b[1;33m]\u001b[0m\u001b[1;33m-\u001b[0m\u001b[0ma\u001b[0m\u001b[1;33m)\u001b[0m\u001b[1;33m\u001b[0m\u001b[1;33m\u001b[0m\u001b[0m\n\u001b[1;32m---> 21\u001b[1;33m             \u001b[0mN2\u001b[0m\u001b[1;33m.\u001b[0m\u001b[0mappend\u001b[0m\u001b[1;33m(\u001b[0m\u001b[0mN2\u001b[0m\u001b[1;33m[\u001b[0m\u001b[0mi\u001b[0m\u001b[1;33m]\u001b[0m\u001b[1;33m+\u001b[0m\u001b[0ma\u001b[0m\u001b[1;33m)\u001b[0m\u001b[1;33m\u001b[0m\u001b[1;33m\u001b[0m\u001b[0m\n\u001b[0m\u001b[0;32m     22\u001b[0m             \u001b[0mb\u001b[0m\u001b[1;33m=\u001b[0m\u001b[1;33m(\u001b[0m\u001b[0mmu23\u001b[0m\u001b[1;33m*\u001b[0m\u001b[0mN2\u001b[0m\u001b[1;33m[\u001b[0m\u001b[0mi\u001b[0m\u001b[1;33m]\u001b[0m\u001b[1;33m)\u001b[0m\u001b[1;33m\u001b[0m\u001b[1;33m\u001b[0m\u001b[0m\n\u001b[0;32m     23\u001b[0m             \u001b[1;32mif\u001b[0m \u001b[1;33m(\u001b[0m\u001b[0mN2\u001b[0m\u001b[1;33m[\u001b[0m\u001b[0mi\u001b[0m\u001b[1;33m]\u001b[0m\u001b[1;33m-\u001b[0m\u001b[0mb\u001b[0m\u001b[1;33m>=\u001b[0m\u001b[1;36m0\u001b[0m\u001b[1;33m)\u001b[0m\u001b[1;33m:\u001b[0m\u001b[1;33m\u001b[0m\u001b[1;33m\u001b[0m\u001b[0m\n",
      "\u001b[1;31mMemoryError\u001b[0m: "
     ]
    }
   ],
   "source": [
    "N1,N2,N3,time=evolution(0.1,0.1,100)"
   ]
  },
  {
   "cell_type": "code",
   "execution_count": null,
   "metadata": {},
   "outputs": [],
   "source": [
    "plt.plot(N1,label='evolution of genotype 1')\n",
    "plt.plot(N2,label='evolution of genotype 2')\n",
    "plt.plot(N3,label='evolution of genotype 3')\n",
    "plt.title(\"For mu = \"+str(MU[2]))\n",
    "plt.show()"
   ]
  },
  {
   "cell_type": "code",
   "execution_count": null,
   "metadata": {},
   "outputs": [],
   "source": []
  }
 ],
 "metadata": {
  "kernelspec": {
   "display_name": "Python 3",
   "language": "python",
   "name": "python3"
  },
  "language_info": {
   "codemirror_mode": {
    "name": "ipython",
    "version": 3
   },
   "file_extension": ".py",
   "mimetype": "text/x-python",
   "name": "python",
   "nbconvert_exporter": "python",
   "pygments_lexer": "ipython3",
   "version": "3.6.9"
  }
 },
 "nbformat": 4,
 "nbformat_minor": 2
}
