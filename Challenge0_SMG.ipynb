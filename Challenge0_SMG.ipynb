{
 "cells": [
  {
   "cell_type": "code",
   "execution_count": 1,
   "metadata": {},
   "outputs": [
    {
     "name": "stdout",
     "output_type": "stream",
     "text": [
      "Original Seuqnce is:  [ 1  2  3  4  5  6  7  8  9 10 11 12 13 14 15 16 17 18 19]\n",
      "4 Random Groups are: \n",
      "Gorup  1 is [13  3  2 17  5]\n",
      "Gorup  2 is [ 5 10  8  7 19]\n",
      "Gorup  3 is [13 11 10  4 12]\n",
      "Gorup  4 is [14 11  3 10]\n"
     ]
    }
   ],
   "source": [
    "import numpy as np\n",
    "\n",
    "np.random.seed(3) #If you want to get different groups, you just need to change the \"seed value\"\n",
    "\n",
    "a=np.arange(19) +1\n",
    "\n",
    "chunk_size = [5,5,5,4]\n",
    "\n",
    "b = [np.random.choice(a,_, replace=False) for _ in chunk_size]\n",
    "\n",
    "print(\"Original Seuqnce is: \", a)\n",
    "\n",
    "print(\"4 Random Groups are: \")\n",
    "\n",
    "for i in range(4):\n",
    "    print(\"Gorup \", i+1, \"is\", b[i])"
   ]
  },
  {
   "cell_type": "code",
   "execution_count": null,
   "metadata": {},
   "outputs": [],
   "source": []
  }
 ],
 "metadata": {
  "kernelspec": {
   "display_name": "Python 3",
   "language": "python",
   "name": "python3"
  },
  "language_info": {
   "codemirror_mode": {
    "name": "ipython",
    "version": 3
   },
   "file_extension": ".py",
   "mimetype": "text/x-python",
   "name": "python",
   "nbconvert_exporter": "python",
   "pygments_lexer": "ipython3",
   "version": "3.6.9"
  }
 },
 "nbformat": 4,
 "nbformat_minor": 2
}
